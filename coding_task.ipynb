{
 "cells": [
  {
   "cell_type": "raw",
   "id": "6dbd907b-fa6c-4368-91f4-d8ae6cc73a38",
   "metadata": {},
   "source": [
    "WITH THE GIVEN PICKLE FILE WE WILL EXTRACT THE DATA AND WE'LL BE USING RNN (RECURRENT NEURAL NETWORK) "
   ]
  },
  {
   "cell_type": "code",
   "execution_count": 16,
   "id": "e6f7c40c-041d-4b86-885e-765d67be2be3",
   "metadata": {},
   "outputs": [],
   "source": [
    "import pandas as pd\n",
    "import numpy as np\n",
    "import matplotlib.pyplot as plt\n",
    "import pickle"
   ]
  },
  {
   "cell_type": "code",
   "execution_count": 17,
   "id": "d514d7ce-1941-4877-b848-5f6c07b20a42",
   "metadata": {},
   "outputs": [],
   "source": [
    "df = pd.read_pickle(r'C:\\Users\\mpaks\\Downloads\\gBR_sBM_cAll_d04_mBR0_ch01.pkl')"
   ]
  },
  {
   "cell_type": "code",
   "execution_count": 18,
   "id": "d30069fe-87c5-476c-82d3-205a5d987e0e",
   "metadata": {},
   "outputs": [
    {
     "name": "stdout",
     "output_type": "stream",
     "text": [
      "{'smpl_loss': 1.5907235145568848, 'smpl_poses': array([[-0.31962776,  0.06308482, -0.10600757, ..., -0.00279232,\n",
      "         0.00125968,  0.00673836],\n",
      "       [-0.31940448,  0.06222648, -0.10417131, ..., -0.00263791,\n",
      "         0.00105115,  0.00658031],\n",
      "       [-0.31785855,  0.05951827, -0.10288486, ..., -0.00242662,\n",
      "         0.00085484,  0.00638444],\n",
      "       ...,\n",
      "       [-0.02737845,  0.5998614 ,  0.02344459, ...,  0.00208174,\n",
      "         0.00185507,  0.01033406],\n",
      "       [-0.02597483,  0.5952404 ,  0.01923311, ...,  0.00188601,\n",
      "         0.00173163,  0.01030607],\n",
      "       [-0.02312448,  0.5955038 ,  0.02102973, ...,  0.00146477,\n",
      "         0.00158774,  0.0100581 ]], dtype=float32), 'smpl_scaling': array([93.77886], dtype=float32), 'smpl_trans': array([[-1.4792730e+01,  1.6935951e+02,  1.7916475e-01],\n",
      "       [-1.4938223e+01,  1.6943605e+02,  1.6997068e-01],\n",
      "       [-1.5107360e+01,  1.6954605e+02,  7.1443714e-02],\n",
      "       ...,\n",
      "       [ 5.0804868e+00,  1.7757001e+02,  4.8406234e+00],\n",
      "       [ 5.1178832e+00,  1.7758218e+02,  4.8407183e+00],\n",
      "       [ 5.1210480e+00,  1.7756790e+02,  4.8775520e+00]], dtype=float32)}\n"
     ]
    }
   ],
   "source": [
    "print(df)"
   ]
  },
  {
   "cell_type": "code",
   "execution_count": 19,
   "id": "ae5a1600-e1ff-4fc6-a031-5899faece77e",
   "metadata": {},
   "outputs": [
    {
     "name": "stdout",
     "output_type": "stream",
     "text": [
      "[[-1.4792730e+01  1.6935951e+02  1.7916475e-01]\n",
      " [-1.4938223e+01  1.6943605e+02  1.6997068e-01]\n",
      " [-1.5107360e+01  1.6954605e+02  7.1443714e-02]\n",
      " ...\n",
      " [ 5.0804868e+00  1.7757001e+02  4.8406234e+00]\n",
      " [ 5.1178832e+00  1.7758218e+02  4.8407183e+00]\n",
      " [ 5.1210480e+00  1.7756790e+02  4.8775520e+00]]\n"
     ]
    }
   ],
   "source": [
    "print(df['smpl_trans'])"
   ]
  },
  {
   "cell_type": "code",
   "execution_count": 20,
   "id": "1d454959-8a6e-4d44-a3c9-a75705a25cfe",
   "metadata": {},
   "outputs": [
    {
     "name": "stdout",
     "output_type": "stream",
     "text": [
      "720\n"
     ]
    }
   ],
   "source": [
    "print(len( df['smpl_trans']))"
   ]
  },
  {
   "cell_type": "code",
   "execution_count": 21,
   "id": "2e3a60ef-17a6-44d9-b384-98a3664229a6",
   "metadata": {},
   "outputs": [],
   "source": [
    "trans = df['smpl_trans']"
   ]
  },
  {
   "cell_type": "code",
   "execution_count": 22,
   "id": "e63751e1-b841-432e-877a-507274718244",
   "metadata": {},
   "outputs": [],
   "source": [
    "from sklearn.preprocessing import MinMaxScaler\n",
    "scaler = MinMaxScaler()"
   ]
  },
  {
   "cell_type": "code",
   "execution_count": 23,
   "id": "7c4afa50-af3e-4feb-9a10-596f3eb586a7",
   "metadata": {},
   "outputs": [],
   "source": [
    "from keras.preprocessing.sequence import TimeseriesGenerator"
   ]
  },
  {
   "cell_type": "code",
   "execution_count": 24,
   "id": "ad880555-aa87-4e38-be5b-de9044c50ffc",
   "metadata": {},
   "outputs": [],
   "source": [
    "from keras.models import Sequential\n",
    "from keras.layers import Dense\n",
    "from keras.layers import LSTM"
   ]
  },
  {
   "cell_type": "code",
   "execution_count": 25,
   "id": "d553dd43-2333-4e66-9c45-9e1fef372433",
   "metadata": {},
   "outputs": [
    {
     "name": "stdout",
     "output_type": "stream",
     "text": [
      "[[0.0181269  0.22609043 0.43029338]\n",
      " [0.01484054 0.23213768 0.43006286]\n",
      " [0.01102015 0.24082947 0.42759255]\n",
      " ...\n",
      " [0.46701658 0.87484264 0.54716796]\n",
      " [0.46786126 0.8758049  0.54717034]\n",
      " [0.46793276 0.8746767  0.54809386]]\n"
     ]
    }
   ],
   "source": [
    "scaler.fit(trans) # fit the scaler object \n",
    "scaled_train = scaler.transform(trans)  # normalizing trans and storing into scaled_train \n",
    "print(scaled_train) # now data is in range of [0,1]\n",
    "    "
   ]
  },
  {
   "cell_type": "code",
   "execution_count": 46,
   "id": "71fc1d74-99a1-498a-bb49-9b0dfdaf854a",
   "metadata": {},
   "outputs": [
    {
     "name": "stdout",
     "output_type": "stream",
     "text": [
      "Epoch 1/50\n"
     ]
    },
    {
     "ename": "InvalidArgumentError",
     "evalue": "Graph execution error:\n\nDetected at node 'sequential_2174/lstm_2174/while/lstm_cell_2174/MatMul' defined at (most recent call last):\n    File \"C:\\Users\\mpaks\\miniconda3\\lib\\runpy.py\", line 196, in _run_module_as_main\n      return _run_code(code, main_globals, None,\n    File \"C:\\Users\\mpaks\\miniconda3\\lib\\runpy.py\", line 86, in _run_code\n      exec(code, run_globals)\n    File \"C:\\Users\\mpaks\\miniconda3\\lib\\site-packages\\ipykernel_launcher.py\", line 17, in <module>\n      app.launch_new_instance()\n    File \"C:\\Users\\mpaks\\miniconda3\\lib\\site-packages\\traitlets\\config\\application.py\", line 992, in launch_instance\n      app.start()\n    File \"C:\\Users\\mpaks\\miniconda3\\lib\\site-packages\\ipykernel\\kernelapp.py\", line 711, in start\n      self.io_loop.start()\n    File \"C:\\Users\\mpaks\\miniconda3\\lib\\site-packages\\tornado\\platform\\asyncio.py\", line 215, in start\n      self.asyncio_loop.run_forever()\n    File \"C:\\Users\\mpaks\\miniconda3\\lib\\asyncio\\base_events.py\", line 603, in run_forever\n      self._run_once()\n    File \"C:\\Users\\mpaks\\miniconda3\\lib\\asyncio\\base_events.py\", line 1909, in _run_once\n      handle._run()\n    File \"C:\\Users\\mpaks\\miniconda3\\lib\\asyncio\\events.py\", line 80, in _run\n      self._context.run(self._callback, *self._args)\n    File \"C:\\Users\\mpaks\\miniconda3\\lib\\site-packages\\ipykernel\\kernelbase.py\", line 510, in dispatch_queue\n      await self.process_one()\n    File \"C:\\Users\\mpaks\\miniconda3\\lib\\site-packages\\ipykernel\\kernelbase.py\", line 499, in process_one\n      await dispatch(*args)\n    File \"C:\\Users\\mpaks\\miniconda3\\lib\\site-packages\\ipykernel\\kernelbase.py\", line 406, in dispatch_shell\n      await result\n    File \"C:\\Users\\mpaks\\miniconda3\\lib\\site-packages\\ipykernel\\kernelbase.py\", line 729, in execute_request\n      reply_content = await reply_content\n    File \"C:\\Users\\mpaks\\miniconda3\\lib\\site-packages\\ipykernel\\ipkernel.py\", line 411, in do_execute\n      res = shell.run_cell(\n    File \"C:\\Users\\mpaks\\miniconda3\\lib\\site-packages\\ipykernel\\zmqshell.py\", line 531, in run_cell\n      return super().run_cell(*args, **kwargs)\n    File \"C:\\Users\\mpaks\\miniconda3\\lib\\site-packages\\IPython\\core\\interactiveshell.py\", line 3006, in run_cell\n      result = self._run_cell(\n    File \"C:\\Users\\mpaks\\miniconda3\\lib\\site-packages\\IPython\\core\\interactiveshell.py\", line 3061, in _run_cell\n      result = runner(coro)\n    File \"C:\\Users\\mpaks\\miniconda3\\lib\\site-packages\\IPython\\core\\async_helpers.py\", line 129, in _pseudo_sync_runner\n      coro.send(None)\n    File \"C:\\Users\\mpaks\\miniconda3\\lib\\site-packages\\IPython\\core\\interactiveshell.py\", line 3266, in run_cell_async\n      has_raised = await self.run_ast_nodes(code_ast.body, cell_name,\n    File \"C:\\Users\\mpaks\\miniconda3\\lib\\site-packages\\IPython\\core\\interactiveshell.py\", line 3445, in run_ast_nodes\n      if await self.run_code(code, result, async_=asy):\n    File \"C:\\Users\\mpaks\\miniconda3\\lib\\site-packages\\IPython\\core\\interactiveshell.py\", line 3505, in run_code\n      exec(code_obj, self.user_global_ns, self.user_ns)\n    File \"C:\\Users\\mpaks\\AppData\\Local\\Temp\\ipykernel_4020\\2113881905.py\", line 22, in <module>\n      model.fit(generator, epochs = 50)\n    File \"C:\\Users\\mpaks\\miniconda3\\lib\\site-packages\\keras\\utils\\traceback_utils.py\", line 65, in error_handler\n      return fn(*args, **kwargs)\n    File \"C:\\Users\\mpaks\\miniconda3\\lib\\site-packages\\keras\\engine\\training.py\", line 1685, in fit\n      tmp_logs = self.train_function(iterator)\n    File \"C:\\Users\\mpaks\\miniconda3\\lib\\site-packages\\keras\\engine\\training.py\", line 1284, in train_function\n      return step_function(self, iterator)\n    File \"C:\\Users\\mpaks\\miniconda3\\lib\\site-packages\\keras\\engine\\training.py\", line 1268, in step_function\n      outputs = model.distribute_strategy.run(run_step, args=(data,))\n    File \"C:\\Users\\mpaks\\miniconda3\\lib\\site-packages\\keras\\engine\\training.py\", line 1249, in run_step\n      outputs = model.train_step(data)\n    File \"C:\\Users\\mpaks\\miniconda3\\lib\\site-packages\\keras\\engine\\training.py\", line 1050, in train_step\n      y_pred = self(x, training=True)\n    File \"C:\\Users\\mpaks\\miniconda3\\lib\\site-packages\\keras\\utils\\traceback_utils.py\", line 65, in error_handler\n      return fn(*args, **kwargs)\n    File \"C:\\Users\\mpaks\\miniconda3\\lib\\site-packages\\keras\\engine\\training.py\", line 558, in __call__\n      return super().__call__(*args, **kwargs)\n    File \"C:\\Users\\mpaks\\miniconda3\\lib\\site-packages\\keras\\utils\\traceback_utils.py\", line 65, in error_handler\n      return fn(*args, **kwargs)\n    File \"C:\\Users\\mpaks\\miniconda3\\lib\\site-packages\\keras\\engine\\base_layer.py\", line 1145, in __call__\n      outputs = call_fn(inputs, *args, **kwargs)\n    File \"C:\\Users\\mpaks\\miniconda3\\lib\\site-packages\\keras\\utils\\traceback_utils.py\", line 96, in error_handler\n      return fn(*args, **kwargs)\n    File \"C:\\Users\\mpaks\\miniconda3\\lib\\site-packages\\keras\\engine\\sequential.py\", line 412, in call\n      return super().call(inputs, training=training, mask=mask)\n    File \"C:\\Users\\mpaks\\miniconda3\\lib\\site-packages\\keras\\engine\\functional.py\", line 512, in call\n      return self._run_internal_graph(inputs, training=training, mask=mask)\n    File \"C:\\Users\\mpaks\\miniconda3\\lib\\site-packages\\keras\\engine\\functional.py\", line 669, in _run_internal_graph\n      outputs = node.layer(*args, **kwargs)\n    File \"C:\\Users\\mpaks\\miniconda3\\lib\\site-packages\\keras\\layers\\rnn\\base_rnn.py\", line 556, in __call__\n      return super().__call__(inputs, **kwargs)\n    File \"C:\\Users\\mpaks\\miniconda3\\lib\\site-packages\\keras\\utils\\traceback_utils.py\", line 65, in error_handler\n      return fn(*args, **kwargs)\n    File \"C:\\Users\\mpaks\\miniconda3\\lib\\site-packages\\keras\\engine\\base_layer.py\", line 1145, in __call__\n      outputs = call_fn(inputs, *args, **kwargs)\n    File \"C:\\Users\\mpaks\\miniconda3\\lib\\site-packages\\keras\\utils\\traceback_utils.py\", line 96, in error_handler\n      return fn(*args, **kwargs)\n    File \"C:\\Users\\mpaks\\miniconda3\\lib\\site-packages\\keras\\layers\\rnn\\lstm.py\", line 625, in call\n      last_output, outputs, states = backend.rnn(\n    File \"C:\\Users\\mpaks\\miniconda3\\lib\\site-packages\\keras\\backend.py\", line 5169, in rnn\n      final_outputs = tf.compat.v1.while_loop(\n    File \"C:\\Users\\mpaks\\miniconda3\\lib\\site-packages\\keras\\backend.py\", line 5148, in _step\n      output, new_states = step_function(\n    File \"C:\\Users\\mpaks\\miniconda3\\lib\\site-packages\\keras\\layers\\rnn\\lstm.py\", line 623, in step\n      return self.cell(inputs, states, **kwargs)\n    File \"C:\\Users\\mpaks\\miniconda3\\lib\\site-packages\\keras\\utils\\traceback_utils.py\", line 65, in error_handler\n      return fn(*args, **kwargs)\n    File \"C:\\Users\\mpaks\\miniconda3\\lib\\site-packages\\keras\\engine\\base_layer.py\", line 1145, in __call__\n      outputs = call_fn(inputs, *args, **kwargs)\n    File \"C:\\Users\\mpaks\\miniconda3\\lib\\site-packages\\keras\\utils\\traceback_utils.py\", line 96, in error_handler\n      return fn(*args, **kwargs)\n    File \"C:\\Users\\mpaks\\miniconda3\\lib\\site-packages\\keras\\layers\\rnn\\lstm.py\", line 327, in call\n      z = backend.dot(inputs, self.kernel)\n    File \"C:\\Users\\mpaks\\miniconda3\\lib\\site-packages\\keras\\backend.py\", line 2464, in dot\n      out = tf.matmul(x, y)\nNode: 'sequential_2174/lstm_2174/while/lstm_cell_2174/MatMul'\nMatrix size-incompatible: In[0]: [1,3], In[1]: [1,400]\n\t [[{{node sequential_2174/lstm_2174/while/lstm_cell_2174/MatMul}}]] [Op:__inference_train_function_526934]",
     "output_type": "error",
     "traceback": [
      "\u001b[1;31m---------------------------------------------------------------------------\u001b[0m",
      "\u001b[1;31mInvalidArgumentError\u001b[0m                      Traceback (most recent call last)",
      "Cell \u001b[1;32mIn[46], line 22\u001b[0m\n\u001b[0;32m     20\u001b[0m model\u001b[38;5;241m.\u001b[39madd(Dense(\u001b[38;5;241m1\u001b[39m))\n\u001b[0;32m     21\u001b[0m model\u001b[38;5;241m.\u001b[39mcompile(optimizer\u001b[38;5;241m=\u001b[39m\u001b[38;5;124m'\u001b[39m\u001b[38;5;124madam\u001b[39m\u001b[38;5;124m'\u001b[39m , loss \u001b[38;5;241m=\u001b[39m \u001b[38;5;124m'\u001b[39m\u001b[38;5;124mmse\u001b[39m\u001b[38;5;124m'\u001b[39m)\n\u001b[1;32m---> 22\u001b[0m \u001b[43mmodel\u001b[49m\u001b[38;5;241;43m.\u001b[39;49m\u001b[43mfit\u001b[49m\u001b[43m(\u001b[49m\u001b[43mgenerator\u001b[49m\u001b[43m,\u001b[49m\u001b[43m \u001b[49m\u001b[43mepochs\u001b[49m\u001b[43m \u001b[49m\u001b[38;5;241;43m=\u001b[39;49m\u001b[43m \u001b[49m\u001b[38;5;241;43m50\u001b[39;49m\u001b[43m)\u001b[49m\n\u001b[0;32m     23\u001b[0m loss_per_epoch \u001b[38;5;241m=\u001b[39m model\u001b[38;5;241m.\u001b[39mhistory\u001b[38;5;241m.\u001b[39mhistory[\u001b[38;5;124m'\u001b[39m\u001b[38;5;124mloss\u001b[39m\u001b[38;5;124m'\u001b[39m]\n\u001b[0;32m     24\u001b[0m plt\u001b[38;5;241m.\u001b[39mplot(\u001b[38;5;28mrange\u001b[39m(\u001b[38;5;28mlen\u001b[39m(loss_per_epoch)), loss_per_epoch)\n",
      "File \u001b[1;32m~\\miniconda3\\lib\\site-packages\\keras\\utils\\traceback_utils.py:70\u001b[0m, in \u001b[0;36mfilter_traceback.<locals>.error_handler\u001b[1;34m(*args, **kwargs)\u001b[0m\n\u001b[0;32m     67\u001b[0m     filtered_tb \u001b[38;5;241m=\u001b[39m _process_traceback_frames(e\u001b[38;5;241m.\u001b[39m__traceback__)\n\u001b[0;32m     68\u001b[0m     \u001b[38;5;66;03m# To get the full stack trace, call:\u001b[39;00m\n\u001b[0;32m     69\u001b[0m     \u001b[38;5;66;03m# `tf.debugging.disable_traceback_filtering()`\u001b[39;00m\n\u001b[1;32m---> 70\u001b[0m     \u001b[38;5;28;01mraise\u001b[39;00m e\u001b[38;5;241m.\u001b[39mwith_traceback(filtered_tb) \u001b[38;5;28;01mfrom\u001b[39;00m \u001b[38;5;28mNone\u001b[39m\n\u001b[0;32m     71\u001b[0m \u001b[38;5;28;01mfinally\u001b[39;00m:\n\u001b[0;32m     72\u001b[0m     \u001b[38;5;28;01mdel\u001b[39;00m filtered_tb\n",
      "File \u001b[1;32m~\\miniconda3\\lib\\site-packages\\tensorflow\\python\\eager\\execute.py:52\u001b[0m, in \u001b[0;36mquick_execute\u001b[1;34m(op_name, num_outputs, inputs, attrs, ctx, name)\u001b[0m\n\u001b[0;32m     50\u001b[0m \u001b[38;5;28;01mtry\u001b[39;00m:\n\u001b[0;32m     51\u001b[0m   ctx\u001b[38;5;241m.\u001b[39mensure_initialized()\n\u001b[1;32m---> 52\u001b[0m   tensors \u001b[38;5;241m=\u001b[39m pywrap_tfe\u001b[38;5;241m.\u001b[39mTFE_Py_Execute(ctx\u001b[38;5;241m.\u001b[39m_handle, device_name, op_name,\n\u001b[0;32m     53\u001b[0m                                       inputs, attrs, num_outputs)\n\u001b[0;32m     54\u001b[0m \u001b[38;5;28;01mexcept\u001b[39;00m core\u001b[38;5;241m.\u001b[39m_NotOkStatusException \u001b[38;5;28;01mas\u001b[39;00m e:\n\u001b[0;32m     55\u001b[0m   \u001b[38;5;28;01mif\u001b[39;00m name \u001b[38;5;129;01mis\u001b[39;00m \u001b[38;5;129;01mnot\u001b[39;00m \u001b[38;5;28;01mNone\u001b[39;00m:\n",
      "\u001b[1;31mInvalidArgumentError\u001b[0m: Graph execution error:\n\nDetected at node 'sequential_2174/lstm_2174/while/lstm_cell_2174/MatMul' defined at (most recent call last):\n    File \"C:\\Users\\mpaks\\miniconda3\\lib\\runpy.py\", line 196, in _run_module_as_main\n      return _run_code(code, main_globals, None,\n    File \"C:\\Users\\mpaks\\miniconda3\\lib\\runpy.py\", line 86, in _run_code\n      exec(code, run_globals)\n    File \"C:\\Users\\mpaks\\miniconda3\\lib\\site-packages\\ipykernel_launcher.py\", line 17, in <module>\n      app.launch_new_instance()\n    File \"C:\\Users\\mpaks\\miniconda3\\lib\\site-packages\\traitlets\\config\\application.py\", line 992, in launch_instance\n      app.start()\n    File \"C:\\Users\\mpaks\\miniconda3\\lib\\site-packages\\ipykernel\\kernelapp.py\", line 711, in start\n      self.io_loop.start()\n    File \"C:\\Users\\mpaks\\miniconda3\\lib\\site-packages\\tornado\\platform\\asyncio.py\", line 215, in start\n      self.asyncio_loop.run_forever()\n    File \"C:\\Users\\mpaks\\miniconda3\\lib\\asyncio\\base_events.py\", line 603, in run_forever\n      self._run_once()\n    File \"C:\\Users\\mpaks\\miniconda3\\lib\\asyncio\\base_events.py\", line 1909, in _run_once\n      handle._run()\n    File \"C:\\Users\\mpaks\\miniconda3\\lib\\asyncio\\events.py\", line 80, in _run\n      self._context.run(self._callback, *self._args)\n    File \"C:\\Users\\mpaks\\miniconda3\\lib\\site-packages\\ipykernel\\kernelbase.py\", line 510, in dispatch_queue\n      await self.process_one()\n    File \"C:\\Users\\mpaks\\miniconda3\\lib\\site-packages\\ipykernel\\kernelbase.py\", line 499, in process_one\n      await dispatch(*args)\n    File \"C:\\Users\\mpaks\\miniconda3\\lib\\site-packages\\ipykernel\\kernelbase.py\", line 406, in dispatch_shell\n      await result\n    File \"C:\\Users\\mpaks\\miniconda3\\lib\\site-packages\\ipykernel\\kernelbase.py\", line 729, in execute_request\n      reply_content = await reply_content\n    File \"C:\\Users\\mpaks\\miniconda3\\lib\\site-packages\\ipykernel\\ipkernel.py\", line 411, in do_execute\n      res = shell.run_cell(\n    File \"C:\\Users\\mpaks\\miniconda3\\lib\\site-packages\\ipykernel\\zmqshell.py\", line 531, in run_cell\n      return super().run_cell(*args, **kwargs)\n    File \"C:\\Users\\mpaks\\miniconda3\\lib\\site-packages\\IPython\\core\\interactiveshell.py\", line 3006, in run_cell\n      result = self._run_cell(\n    File \"C:\\Users\\mpaks\\miniconda3\\lib\\site-packages\\IPython\\core\\interactiveshell.py\", line 3061, in _run_cell\n      result = runner(coro)\n    File \"C:\\Users\\mpaks\\miniconda3\\lib\\site-packages\\IPython\\core\\async_helpers.py\", line 129, in _pseudo_sync_runner\n      coro.send(None)\n    File \"C:\\Users\\mpaks\\miniconda3\\lib\\site-packages\\IPython\\core\\interactiveshell.py\", line 3266, in run_cell_async\n      has_raised = await self.run_ast_nodes(code_ast.body, cell_name,\n    File \"C:\\Users\\mpaks\\miniconda3\\lib\\site-packages\\IPython\\core\\interactiveshell.py\", line 3445, in run_ast_nodes\n      if await self.run_code(code, result, async_=asy):\n    File \"C:\\Users\\mpaks\\miniconda3\\lib\\site-packages\\IPython\\core\\interactiveshell.py\", line 3505, in run_code\n      exec(code_obj, self.user_global_ns, self.user_ns)\n    File \"C:\\Users\\mpaks\\AppData\\Local\\Temp\\ipykernel_4020\\2113881905.py\", line 22, in <module>\n      model.fit(generator, epochs = 50)\n    File \"C:\\Users\\mpaks\\miniconda3\\lib\\site-packages\\keras\\utils\\traceback_utils.py\", line 65, in error_handler\n      return fn(*args, **kwargs)\n    File \"C:\\Users\\mpaks\\miniconda3\\lib\\site-packages\\keras\\engine\\training.py\", line 1685, in fit\n      tmp_logs = self.train_function(iterator)\n    File \"C:\\Users\\mpaks\\miniconda3\\lib\\site-packages\\keras\\engine\\training.py\", line 1284, in train_function\n      return step_function(self, iterator)\n    File \"C:\\Users\\mpaks\\miniconda3\\lib\\site-packages\\keras\\engine\\training.py\", line 1268, in step_function\n      outputs = model.distribute_strategy.run(run_step, args=(data,))\n    File \"C:\\Users\\mpaks\\miniconda3\\lib\\site-packages\\keras\\engine\\training.py\", line 1249, in run_step\n      outputs = model.train_step(data)\n    File \"C:\\Users\\mpaks\\miniconda3\\lib\\site-packages\\keras\\engine\\training.py\", line 1050, in train_step\n      y_pred = self(x, training=True)\n    File \"C:\\Users\\mpaks\\miniconda3\\lib\\site-packages\\keras\\utils\\traceback_utils.py\", line 65, in error_handler\n      return fn(*args, **kwargs)\n    File \"C:\\Users\\mpaks\\miniconda3\\lib\\site-packages\\keras\\engine\\training.py\", line 558, in __call__\n      return super().__call__(*args, **kwargs)\n    File \"C:\\Users\\mpaks\\miniconda3\\lib\\site-packages\\keras\\utils\\traceback_utils.py\", line 65, in error_handler\n      return fn(*args, **kwargs)\n    File \"C:\\Users\\mpaks\\miniconda3\\lib\\site-packages\\keras\\engine\\base_layer.py\", line 1145, in __call__\n      outputs = call_fn(inputs, *args, **kwargs)\n    File \"C:\\Users\\mpaks\\miniconda3\\lib\\site-packages\\keras\\utils\\traceback_utils.py\", line 96, in error_handler\n      return fn(*args, **kwargs)\n    File \"C:\\Users\\mpaks\\miniconda3\\lib\\site-packages\\keras\\engine\\sequential.py\", line 412, in call\n      return super().call(inputs, training=training, mask=mask)\n    File \"C:\\Users\\mpaks\\miniconda3\\lib\\site-packages\\keras\\engine\\functional.py\", line 512, in call\n      return self._run_internal_graph(inputs, training=training, mask=mask)\n    File \"C:\\Users\\mpaks\\miniconda3\\lib\\site-packages\\keras\\engine\\functional.py\", line 669, in _run_internal_graph\n      outputs = node.layer(*args, **kwargs)\n    File \"C:\\Users\\mpaks\\miniconda3\\lib\\site-packages\\keras\\layers\\rnn\\base_rnn.py\", line 556, in __call__\n      return super().__call__(inputs, **kwargs)\n    File \"C:\\Users\\mpaks\\miniconda3\\lib\\site-packages\\keras\\utils\\traceback_utils.py\", line 65, in error_handler\n      return fn(*args, **kwargs)\n    File \"C:\\Users\\mpaks\\miniconda3\\lib\\site-packages\\keras\\engine\\base_layer.py\", line 1145, in __call__\n      outputs = call_fn(inputs, *args, **kwargs)\n    File \"C:\\Users\\mpaks\\miniconda3\\lib\\site-packages\\keras\\utils\\traceback_utils.py\", line 96, in error_handler\n      return fn(*args, **kwargs)\n    File \"C:\\Users\\mpaks\\miniconda3\\lib\\site-packages\\keras\\layers\\rnn\\lstm.py\", line 625, in call\n      last_output, outputs, states = backend.rnn(\n    File \"C:\\Users\\mpaks\\miniconda3\\lib\\site-packages\\keras\\backend.py\", line 5169, in rnn\n      final_outputs = tf.compat.v1.while_loop(\n    File \"C:\\Users\\mpaks\\miniconda3\\lib\\site-packages\\keras\\backend.py\", line 5148, in _step\n      output, new_states = step_function(\n    File \"C:\\Users\\mpaks\\miniconda3\\lib\\site-packages\\keras\\layers\\rnn\\lstm.py\", line 623, in step\n      return self.cell(inputs, states, **kwargs)\n    File \"C:\\Users\\mpaks\\miniconda3\\lib\\site-packages\\keras\\utils\\traceback_utils.py\", line 65, in error_handler\n      return fn(*args, **kwargs)\n    File \"C:\\Users\\mpaks\\miniconda3\\lib\\site-packages\\keras\\engine\\base_layer.py\", line 1145, in __call__\n      outputs = call_fn(inputs, *args, **kwargs)\n    File \"C:\\Users\\mpaks\\miniconda3\\lib\\site-packages\\keras\\utils\\traceback_utils.py\", line 96, in error_handler\n      return fn(*args, **kwargs)\n    File \"C:\\Users\\mpaks\\miniconda3\\lib\\site-packages\\keras\\layers\\rnn\\lstm.py\", line 327, in call\n      z = backend.dot(inputs, self.kernel)\n    File \"C:\\Users\\mpaks\\miniconda3\\lib\\site-packages\\keras\\backend.py\", line 2464, in dot\n      out = tf.matmul(x, y)\nNode: 'sequential_2174/lstm_2174/while/lstm_cell_2174/MatMul'\nMatrix size-incompatible: In[0]: [1,3], In[1]: [1,400]\n\t [[{{node sequential_2174/lstm_2174/while/lstm_cell_2174/MatMul}}]] [Op:__inference_train_function_526934]"
     ]
    }
   ],
   "source": [
    " for i in range(720):\n",
    "    \n",
    "    train = [scaled_train[i][:2]]\n",
    "    test = [scaled_train[i][2]]\n",
    "\n",
    "    # print(train)\n",
    "    # print(test)\n",
    "    n_input = 1\n",
    "    \n",
    "    \n",
    "    n_features = 1\n",
    "    generator = TimeseriesGenerator(scaled_train , scaled_train , length = n_input , batch_size =1) #diving data into batches \n",
    "    \n",
    "    x,y = generator[0]\n",
    "#     print(f'given the array : \\n{x.flatten()}')\n",
    "#     print(f'predict this y: \\n {y}')\n",
    "    \n",
    "    model = Sequential()\n",
    "    model.add(LSTM(100,activation = 'relu' , input_shape=(n_input , n_features)))\n",
    "    model.add(Dense(1))\n",
    "    model.compile(optimizer='adam' , loss = 'mse')\n",
    "    model.fit(generator, epochs = 50)\n",
    "    loss_per_epoch = model.history.history['loss']\n",
    "    plt.plot(range(len(loss_per_epoch)), loss_per_epoch)\n",
    "\n",
    "    \n",
    "   "
   ]
  },
  {
   "cell_type": "code",
   "execution_count": null,
   "id": "c639de9d-5ac4-4e03-b70d-8e7a241f4d44",
   "metadata": {},
   "outputs": [],
   "source": [
    "# from sklearn.preprocessing import StandardScaler\n",
    "# import numpy as np\n",
    "\n",
    "# # 4 samples/observations and 2 variables/features\n",
    "# data = np.array([[0, 0], [1, 0], [0, 1], [1, 1]])\n",
    "# scaler = StandardScaler()\n",
    "# scaled_data = scaler.fit_transform(data)\n",
    "\n",
    "# print(data)\n",
    "\n",
    "# print(scaled_data)\n"
   ]
  },
  {
   "cell_type": "code",
   "execution_count": null,
   "id": "1406b20b-0472-4f0d-9301-292e0ce77011",
   "metadata": {},
   "outputs": [],
   "source": []
  },
  {
   "cell_type": "code",
   "execution_count": null,
   "id": "a85c2c1e-00eb-404f-a9eb-764cca9ddbff",
   "metadata": {},
   "outputs": [],
   "source": []
  },
  {
   "cell_type": "code",
   "execution_count": null,
   "id": "9c92d8e6-9a33-44d8-afb4-5d7b4db1aaa0",
   "metadata": {},
   "outputs": [],
   "source": []
  },
  {
   "cell_type": "code",
   "execution_count": null,
   "id": "ce9f38aa-87d0-40ea-a90c-15e5c82b8dae",
   "metadata": {},
   "outputs": [],
   "source": []
  },
  {
   "cell_type": "code",
   "execution_count": null,
   "id": "634bf620-632b-407b-b7c8-79ad52a7d15e",
   "metadata": {},
   "outputs": [],
   "source": []
  },
  {
   "cell_type": "code",
   "execution_count": null,
   "id": "0bb79ab7-640c-480e-889e-a2da8fc8ec08",
   "metadata": {},
   "outputs": [],
   "source": []
  },
  {
   "cell_type": "code",
   "execution_count": null,
   "id": "8135a402-447b-4ab4-a937-9507da5c000a",
   "metadata": {},
   "outputs": [],
   "source": []
  },
  {
   "cell_type": "code",
   "execution_count": null,
   "id": "3d111bca-5486-467d-9839-f7e061190af6",
   "metadata": {},
   "outputs": [],
   "source": []
  },
  {
   "cell_type": "code",
   "execution_count": null,
   "id": "5f12e97a-4487-4754-8863-5f719a7019a7",
   "metadata": {},
   "outputs": [],
   "source": []
  },
  {
   "cell_type": "code",
   "execution_count": null,
   "id": "bf366a22-f1bb-4dc1-a8c1-d91553ad2f8b",
   "metadata": {},
   "outputs": [],
   "source": []
  },
  {
   "cell_type": "code",
   "execution_count": null,
   "id": "24fbcad0-615b-4000-86fb-2ebf0dbd9059",
   "metadata": {},
   "outputs": [],
   "source": []
  },
  {
   "cell_type": "code",
   "execution_count": null,
   "id": "c38ece79-3f1f-4c92-845f-3c91c680d43a",
   "metadata": {},
   "outputs": [],
   "source": []
  },
  {
   "cell_type": "code",
   "execution_count": null,
   "id": "b72dfaf9-286d-4c07-a50c-708443ff2440",
   "metadata": {},
   "outputs": [],
   "source": []
  },
  {
   "cell_type": "code",
   "execution_count": null,
   "id": "3e7e255a-a618-4d4e-9258-990bbaa1b915",
   "metadata": {},
   "outputs": [],
   "source": []
  },
  {
   "cell_type": "code",
   "execution_count": null,
   "id": "8f15c8e3-6871-4d5f-b2e4-e953981ffab2",
   "metadata": {},
   "outputs": [],
   "source": []
  },
  {
   "cell_type": "code",
   "execution_count": null,
   "id": "ac8d62f7-8140-4a01-a39e-394f2a3a9bf5",
   "metadata": {},
   "outputs": [],
   "source": []
  },
  {
   "cell_type": "code",
   "execution_count": null,
   "id": "e019e223-b3a9-4cc6-84de-ad02d357ba33",
   "metadata": {},
   "outputs": [],
   "source": []
  },
  {
   "cell_type": "code",
   "execution_count": null,
   "id": "6ec90285-7dc7-4ab3-be67-06704e0bbd45",
   "metadata": {},
   "outputs": [],
   "source": []
  },
  {
   "cell_type": "code",
   "execution_count": null,
   "id": "35a4f89a-f5cd-4a91-b351-8b7dcc15e192",
   "metadata": {},
   "outputs": [],
   "source": []
  },
  {
   "cell_type": "code",
   "execution_count": null,
   "id": "8121aa08-59a8-4baa-9ae7-537a166a58cb",
   "metadata": {},
   "outputs": [],
   "source": []
  },
  {
   "cell_type": "code",
   "execution_count": null,
   "id": "0c3ff0af-9768-4d42-b6aa-3bbb72c13435",
   "metadata": {},
   "outputs": [],
   "source": []
  },
  {
   "cell_type": "code",
   "execution_count": null,
   "id": "13c41899-8c38-411c-a3f1-230d402dd68f",
   "metadata": {},
   "outputs": [],
   "source": []
  },
  {
   "cell_type": "code",
   "execution_count": null,
   "id": "0db38ff0-93d6-40e8-8882-5fcddbd30cdb",
   "metadata": {},
   "outputs": [],
   "source": []
  },
  {
   "cell_type": "code",
   "execution_count": null,
   "id": "4e06f17e-f68e-4337-b224-583a69753d19",
   "metadata": {},
   "outputs": [],
   "source": []
  }
 ],
 "metadata": {
  "kernelspec": {
   "display_name": "Python 3 (ipykernel)",
   "language": "python",
   "name": "python3"
  },
  "language_info": {
   "codemirror_mode": {
    "name": "ipython",
    "version": 3
   },
   "file_extension": ".py",
   "mimetype": "text/x-python",
   "name": "python",
   "nbconvert_exporter": "python",
   "pygments_lexer": "ipython3",
   "version": "3.10.11"
  }
 },
 "nbformat": 4,
 "nbformat_minor": 5
}
